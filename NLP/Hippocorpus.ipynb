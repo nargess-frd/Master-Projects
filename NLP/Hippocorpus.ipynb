{
 "cells": [
  {
   "cell_type": "markdown",
   "metadata": {},
   "source": [
    "# <a id='toc1_'></a>[**Story Classification**](#toc0_)"
   ]
  },
  {
   "cell_type": "markdown",
   "metadata": {},
   "source": [
    "**Table of contents**<a id='toc0_'></a>    \n",
    "- [**Story Classification**](#toc1_)    \n",
    "  - [Introduction](#toc1_1_)    \n",
    "  - [Importing Libaries](#toc1_2_)    \n",
    "  - [Loading Dataset](#toc1_3_)    \n",
    "  - [EDA](#toc1_4_)    \n",
    "  - [Preprocessing](#toc1_5_)    \n",
    "    - [Text Preprocessing](#toc1_5_1_)    \n",
    "  - [Feature Engineering](#toc1_6_)    \n",
    "  - [Transformers](#toc1_7_)    \n",
    "    - [Preprocessing](#toc1_7_1_)    \n",
    "    - [Training](#toc1_7_2_)    \n",
    "\n",
    "<!-- vscode-jupyter-toc-config\n",
    "\tnumbering=false\n",
    "\tanchor=true\n",
    "\tflat=false\n",
    "\tminLevel=1\n",
    "\tmaxLevel=6\n",
    "\t/vscode-jupyter-toc-config -->\n",
    "<!-- THIS CELL WILL BE REPLACED ON TOC UPDATE. DO NOT WRITE YOUR TEXT IN THIS CELL -->"
   ]
  },
  {
   "cell_type": "markdown",
   "metadata": {},
   "source": [
    "## <a id='toc1_1_'></a>[Introduction](#toc0_)"
   ]
  },
  {
   "cell_type": "markdown",
   "metadata": {},
   "source": [
    "Understanding the relationship between memories and storytelling is important as storytelling performs as a mechanism for humans to share experiences shaping their culture and communication. Imagination, recollection, and retelling rely on different cognitive and memory processes, thereby suggesting that this dissimilarity might also be reflected in the language employed during telling story. \n",
    "\n",
    "In this project, we explored the interplay between memory processes and storytelling through narratives derived from imagined, recalled, and retold stories using [\"Hippocorpus\"](https://huggingface.co/datasets/allenai/hippocorpus), a comprehensive dataset of 6,854 English diary-like short stories.\n",
    "\n",
    "Firstly, as a baseline in our project, we implemented a simpler Machine Learning approach using a Random Forest to classify our stories into three classes we have. Secondly, we use a light version of RoBERTa (distilroberta) to build a more robust model"
   ]
  },
  {
   "cell_type": "markdown",
   "metadata": {},
   "source": [
    "## <a id='toc1_2_'></a>[Importing Libaries](#toc0_)"
   ]
  },
  {
   "cell_type": "code",
   "execution_count": 1,
   "metadata": {},
   "outputs": [],
   "source": [
    "import pandas as pd\n",
    "pd.set_option('display.max_columns', None)\n",
    "\n",
    "import numpy as np\n",
    "import os\n",
    "import random\n",
    "import re\n",
    "\n",
    "import spacy\n",
    "from spacy.lang.en.stop_words import STOP_WORDS\n",
    "import string\n",
    "from collections import Counter\n",
    "\n",
    "import matplotlib.pyplot as plt\n",
    "import seaborn as sns\n",
    "\n",
    "import warnings \n",
    "warnings.filterwarnings('ignore')\n",
    "\n",
    "from nltk.corpus import stopwords\n",
    "from nltk.tokenize import word_tokenize\n",
    "from nltk.stem import WordNetLemmatizer, PorterStemmer\n",
    "\n",
    "\n",
    "from sklearn.feature_extraction.text import CountVectorizer, TfidfTransformer\n",
    "from sklearn.ensemble import RandomForestClassifier\n",
    "from sklearn.pipeline import Pipeline\n",
    "from sklearn.model_selection import train_test_split\n",
    "from sklearn.metrics import accuracy_score, classification_report\n",
    "import sklearn.preprocessing\n",
    "\n",
    "import datasets\n",
    "import evaluate\n",
    "import transformers"
   ]
  },
  {
   "cell_type": "code",
   "execution_count": null,
   "metadata": {},
   "outputs": [
    {
     "name": "stderr",
     "output_type": "stream",
     "text": [
      "[nltk_data] Downloading package punkt_tab to\n",
      "[nltk_data]     C:\\Users\\narge\\AppData\\Roaming\\nltk_data...\n",
      "[nltk_data]   Unzipping tokenizers\\punkt_tab.zip.\n"
     ]
    },
    {
     "data": {
      "text/plain": [
       "True"
      ]
     },
     "execution_count": 27,
     "metadata": {},
     "output_type": "execute_result"
    }
   ],
   "source": [
    "import nltk\n",
    "nltk.download('punkt_tab')"
   ]
  },
  {
   "cell_type": "markdown",
   "metadata": {},
   "source": [
    "## <a id='toc1_3_'></a>[Loading Dataset](#toc0_)"
   ]
  },
  {
   "cell_type": "code",
   "execution_count": null,
   "metadata": {},
   "outputs": [],
   "source": [
    "from google.colab import files\n",
    "\n",
    "files.upload()"
   ]
  },
  {
   "cell_type": "code",
   "execution_count": 56,
   "metadata": {},
   "outputs": [
    {
     "data": {
      "text/html": [
       "<div>\n",
       "<style scoped>\n",
       "    .dataframe tbody tr th:only-of-type {\n",
       "        vertical-align: middle;\n",
       "    }\n",
       "\n",
       "    .dataframe tbody tr th {\n",
       "        vertical-align: top;\n",
       "    }\n",
       "\n",
       "    .dataframe thead th {\n",
       "        text-align: right;\n",
       "    }\n",
       "</style>\n",
       "<table border=\"1\" class=\"dataframe\">\n",
       "  <thead>\n",
       "    <tr style=\"text-align: right;\">\n",
       "      <th></th>\n",
       "      <th>AssignmentId</th>\n",
       "      <th>WorkTimeInSeconds</th>\n",
       "      <th>WorkerId</th>\n",
       "      <th>annotatorAge</th>\n",
       "      <th>annotatorGender</th>\n",
       "      <th>annotatorRace</th>\n",
       "      <th>distracted</th>\n",
       "      <th>draining</th>\n",
       "      <th>frequency</th>\n",
       "      <th>importance</th>\n",
       "      <th>logTimeSinceEvent</th>\n",
       "      <th>mainEvent</th>\n",
       "      <th>memType</th>\n",
       "      <th>mostSurprising</th>\n",
       "      <th>openness</th>\n",
       "      <th>recAgnPairId</th>\n",
       "      <th>recImgPairId</th>\n",
       "      <th>similarity</th>\n",
       "      <th>similarityReason</th>\n",
       "      <th>story</th>\n",
       "      <th>stressful</th>\n",
       "      <th>summary</th>\n",
       "      <th>timeSinceEvent</th>\n",
       "    </tr>\n",
       "  </thead>\n",
       "  <tbody>\n",
       "    <tr>\n",
       "      <th>0</th>\n",
       "      <td>32RIADZISTQWI5XIVG5BN0VMYFRS4U</td>\n",
       "      <td>1641</td>\n",
       "      <td>E9TY34YY</td>\n",
       "      <td>25.0</td>\n",
       "      <td>man</td>\n",
       "      <td>white</td>\n",
       "      <td>1.0</td>\n",
       "      <td>1.0</td>\n",
       "      <td>NaN</td>\n",
       "      <td>3.0</td>\n",
       "      <td>4499809670330260</td>\n",
       "      <td>attending a show</td>\n",
       "      <td>imagined</td>\n",
       "      <td>when I got concert tickets</td>\n",
       "      <td>0.0</td>\n",
       "      <td>NaN</td>\n",
       "      <td>3018Q3ZVOJCZJFDMPSFXATCQ4DARA2</td>\n",
       "      <td>3.0</td>\n",
       "      <td>I've been to a couple concerts, but not many.</td>\n",
       "      <td>Concerts are my most favorite thing, and my bo...</td>\n",
       "      <td>1.0</td>\n",
       "      <td>My boyfriend and I went to a concert together ...</td>\n",
       "      <td>90.0</td>\n",
       "    </tr>\n",
       "    <tr>\n",
       "      <th>1</th>\n",
       "      <td>3018Q3ZVOJCZJFDMPSFXATCQ4DARA2</td>\n",
       "      <td>1245</td>\n",
       "      <td>237K2NI1</td>\n",
       "      <td>25.0</td>\n",
       "      <td>woman</td>\n",
       "      <td>white</td>\n",
       "      <td>1.0</td>\n",
       "      <td>1.0</td>\n",
       "      <td>3.0</td>\n",
       "      <td>4.0</td>\n",
       "      <td>4499809670330260</td>\n",
       "      <td>a concert.</td>\n",
       "      <td>recalled</td>\n",
       "      <td>we saw the beautiful sky.</td>\n",
       "      <td>1.0</td>\n",
       "      <td>NaN</td>\n",
       "      <td>3018Q3ZVOJCZJFDMPSFXATCQ4DARA2</td>\n",
       "      <td>NaN</td>\n",
       "      <td>NaN</td>\n",
       "      <td>The day started perfectly, with a great drive ...</td>\n",
       "      <td>1.0</td>\n",
       "      <td>My boyfriend and I went to a concert together ...</td>\n",
       "      <td>90.0</td>\n",
       "    </tr>\n",
       "    <tr>\n",
       "      <th>2</th>\n",
       "      <td>3IRIK4HM3B6UQBC0HI8Q5TBJZLEC61</td>\n",
       "      <td>1159</td>\n",
       "      <td>FK5QTANB</td>\n",
       "      <td>35.0</td>\n",
       "      <td>woman</td>\n",
       "      <td>black</td>\n",
       "      <td>1.0</td>\n",
       "      <td>1.0</td>\n",
       "      <td>NaN</td>\n",
       "      <td>4.0</td>\n",
       "      <td>5010635294096250</td>\n",
       "      <td>my sister having her twins a little early</td>\n",
       "      <td>imagined</td>\n",
       "      <td>she went into labor early</td>\n",
       "      <td>0.5</td>\n",
       "      <td>NaN</td>\n",
       "      <td>3018Q3ZVOJCZJFDMPSFXATCQG04RAI</td>\n",
       "      <td>3.0</td>\n",
       "      <td>I am a mother myself</td>\n",
       "      <td>It seems just like yesterday but today makes f...</td>\n",
       "      <td>1.0</td>\n",
       "      <td>My sister gave birth to my twin niece and neph...</td>\n",
       "      <td>150.0</td>\n",
       "    </tr>\n",
       "  </tbody>\n",
       "</table>\n",
       "</div>"
      ],
      "text/plain": [
       "                     AssignmentId  WorkTimeInSeconds  WorkerId  annotatorAge  \\\n",
       "0  32RIADZISTQWI5XIVG5BN0VMYFRS4U               1641  E9TY34YY          25.0   \n",
       "1  3018Q3ZVOJCZJFDMPSFXATCQ4DARA2               1245  237K2NI1          25.0   \n",
       "2  3IRIK4HM3B6UQBC0HI8Q5TBJZLEC61               1159  FK5QTANB          35.0   \n",
       "\n",
       "  annotatorGender annotatorRace  distracted  draining  frequency  importance  \\\n",
       "0             man         white         1.0       1.0        NaN         3.0   \n",
       "1           woman         white         1.0       1.0        3.0         4.0   \n",
       "2           woman         black         1.0       1.0        NaN         4.0   \n",
       "\n",
       "   logTimeSinceEvent                                  mainEvent   memType  \\\n",
       "0   4499809670330260                           attending a show  imagined   \n",
       "1   4499809670330260                                 a concert.  recalled   \n",
       "2   5010635294096250  my sister having her twins a little early  imagined   \n",
       "\n",
       "               mostSurprising  openness recAgnPairId  \\\n",
       "0  when I got concert tickets       0.0          NaN   \n",
       "1   we saw the beautiful sky.       1.0          NaN   \n",
       "2   she went into labor early       0.5          NaN   \n",
       "\n",
       "                     recImgPairId  similarity  \\\n",
       "0  3018Q3ZVOJCZJFDMPSFXATCQ4DARA2         3.0   \n",
       "1  3018Q3ZVOJCZJFDMPSFXATCQ4DARA2         NaN   \n",
       "2  3018Q3ZVOJCZJFDMPSFXATCQG04RAI         3.0   \n",
       "\n",
       "                                similarityReason  \\\n",
       "0  I've been to a couple concerts, but not many.   \n",
       "1                                            NaN   \n",
       "2                           I am a mother myself   \n",
       "\n",
       "                                               story  stressful  \\\n",
       "0  Concerts are my most favorite thing, and my bo...        1.0   \n",
       "1  The day started perfectly, with a great drive ...        1.0   \n",
       "2  It seems just like yesterday but today makes f...        1.0   \n",
       "\n",
       "                                             summary  timeSinceEvent  \n",
       "0  My boyfriend and I went to a concert together ...            90.0  \n",
       "1  My boyfriend and I went to a concert together ...            90.0  \n",
       "2  My sister gave birth to my twin niece and neph...           150.0  "
      ]
     },
     "execution_count": 56,
     "metadata": {},
     "output_type": "execute_result"
    }
   ],
   "source": [
    "data = pd.read_excel(\"hcV3-stories.xlsx\")\n",
    "data.head(3)"
   ]
  },
  {
   "cell_type": "code",
   "execution_count": null,
   "metadata": {},
   "outputs": [
    {
     "data": {
      "text/plain": [
       "(6854, 23)"
      ]
     },
     "execution_count": 13,
     "metadata": {},
     "output_type": "execute_result"
    }
   ],
   "source": [
    "data.shape"
   ]
  },
  {
   "cell_type": "markdown",
   "metadata": {},
   "source": [
    "## <a id='toc1_4_'></a>[EDA](#toc0_)"
   ]
  },
  {
   "cell_type": "markdown",
   "metadata": {},
   "source": [
    "Our goal is to determine whether a story is imagined, recalled, or retold. Therefore, it is crucial to verify if we have an equal number of samples from each category. Based on the figure below, we can consider our dataset to be balanced."
   ]
  },
  {
   "cell_type": "code",
   "execution_count": 35,
   "metadata": {},
   "outputs": [
    {
     "data": {
      "text/plain": [
       "<Axes: xlabel='memType', ylabel='count'>"
      ]
     },
     "execution_count": 35,
     "metadata": {},
     "output_type": "execute_result"
    },
    {
     "data": {
      "image/png": "[encoded data removed]",
      "text/plain": [
       "<Figure size 640x480 with 1 Axes>"
      ]
     },
     "metadata": {},
     "output_type": "display_data"
    }
   ],
   "source": [
    "sns.countplot(data, x=\"memType\")"
   ]
  },
  {
   "cell_type": "code",
   "execution_count": 14,
   "metadata": {},
   "outputs": [
    {
     "name": "stdout",
     "output_type": "stream",
     "text": [
      "<class 'pandas.core.frame.DataFrame'>\n",
      "RangeIndex: 6854 entries, 0 to 6853\n",
      "Data columns (total 23 columns):\n",
      " #   Column             Non-Null Count  Dtype  \n",
      "---  ------             --------------  -----  \n",
      " 0   AssignmentId       6854 non-null   object \n",
      " 1   WorkTimeInSeconds  6854 non-null   int64  \n",
      " 2   WorkerId           6854 non-null   object \n",
      " 3   annotatorAge       6831 non-null   float64\n",
      " 4   annotatorGender    6854 non-null   object \n",
      " 5   annotatorRace      6854 non-null   object \n",
      " 6   distracted         6854 non-null   float64\n",
      " 7   draining           6854 non-null   float64\n",
      " 8   frequency          4098 non-null   float64\n",
      " 9   importance         6710 non-null   float64\n",
      " 10  logTimeSinceEvent  6854 non-null   int64  \n",
      " 11  mainEvent          6854 non-null   object \n",
      " 12  memType            6853 non-null   object \n",
      " 13  mostSurprising     6853 non-null   object \n",
      " 14  openness           6851 non-null   float64\n",
      " 15  recAgnPairId       2618 non-null   object \n",
      " 16  recImgPairId       5326 non-null   object \n",
      " 17  similarity         2754 non-null   float64\n",
      " 18  similarityReason   2754 non-null   object \n",
      " 19  story              6843 non-null   object \n",
      " 20  stressful          6511 non-null   float64\n",
      " 21  summary            6511 non-null   object \n",
      " 22  timeSinceEvent     6499 non-null   float64\n",
      "dtypes: float64(9), int64(2), object(12)\n",
      "memory usage: 1.2+ MB\n"
     ]
    }
   ],
   "source": [
    "data.info()"
   ]
  },
  {
   "cell_type": "markdown",
   "metadata": {},
   "source": [
    "we have 6854 rows and 23 columns. However we have some missing values in our dataset"
   ]
  },
  {
   "cell_type": "code",
   "execution_count": null,
   "metadata": {},
   "outputs": [
    {
     "data": {
      "text/plain": [
       "<Axes: >"
      ]
     },
     "execution_count": 15,
     "metadata": {},
     "output_type": "execute_result"
    },
    {
     "data": {
      "image/png": "[encoded data removed]",
      "text/plain": [
       "<Figure size 640x480 with 1 Axes>"
      ]
     },
     "metadata": {},
     "output_type": "display_data"
    }
   ],
   "source": [
    "sns.heatmap(data.isnull(), cbar=False)"
   ]
  },
  {
   "cell_type": "markdown",
   "metadata": {},
   "source": [
    "## <a id='toc1_5_'></a>[Preprocessing](#toc0_)"
   ]
  },
  {
   "cell_type": "code",
   "execution_count": 16,
   "metadata": {},
   "outputs": [],
   "source": [
    "data = data.dropna(subset=['story', 'memType'])\n",
    "data[['frequency','similarity']] = data[['frequency','similarity']].fillna(0)"
   ]
  },
  {
   "cell_type": "markdown",
   "metadata": {},
   "source": [
    "To handle missing values, we drop NaN values from the \"story\" and \"memType\" columns, as they are our main feature and label. Additionally, we fill NaN values in the \"frequency\" and \"similarity\" columns with 0 to minimize the loss of information. (While we do not currently use these features and rely solely on \"story,\" this step is essential if we plan to build a pipeline that incorporates these features in the future.)"
   ]
  },
  {
   "cell_type": "markdown",
   "metadata": {},
   "source": [
    "### <a id='toc1_5_1_'></a>[Text Preprocessing](#toc0_)"
   ]
  },
  {
   "cell_type": "markdown",
   "metadata": {},
   "source": [
    "Preprocessing steps:\n",
    "\n",
    "+ lower case\n",
    "+ stemming\n",
    "+ removing hashtags\n",
    "+ remove stop words\n",
    "+ tokenization\n",
    "+ remove punctuation\n",
    "+ removing double space"
   ]
  },
  {
   "cell_type": "code",
   "execution_count": 20,
   "metadata": {},
   "outputs": [
    {
     "name": "stdout",
     "output_type": "stream",
     "text": [
      "Contains hashtags: True\n",
      "Contains mentions: False\n",
      "Contains URLs: False\n"
     ]
    }
   ],
   "source": [
    "contains_hashtags = data['story'].str.contains(r'#').any()\n",
    "print(\"Contains hashtags:\", contains_hashtags)\n",
    "\n",
    "contains_mentions = data['story'].str.contains(r'@[\\w\\-]+').any()\n",
    "print(\"Contains mentions:\", contains_mentions)\n",
    "\n",
    "contains_urls = data['story'].str.contains(r\"http\\S+\").any()\n",
    "print(\"Contains URLs:\", contains_urls)"
   ]
  },
  {
   "cell_type": "code",
   "execution_count": 28,
   "metadata": {},
   "outputs": [],
   "source": [
    "stop_words = set(stopwords.words('english'))\n",
    "stemmer = PorterStemmer()\n",
    "\n",
    "# preprocessing function\n",
    "def preprocess_text(text):\n",
    "    text = text.lower()\n",
    "    \n",
    "    text = re.sub(r'#', '', text)\n",
    "    \n",
    "    text = re.sub(r'[^\\w\\s]', '', text) \n",
    "    \n",
    "    text = re.sub(r'\\s+', ' ', text).strip()\n",
    "    \n",
    "    text = ' '.join([word for word in text.split() if word not in stop_words])\n",
    "    \n",
    "    tokens = word_tokenize(text)\n",
    "    \n",
    "    stemmed_tokens = [stemmer.stem(word) for word in tokens]\n",
    "\n",
    "    return ' '.join(stemmed_tokens)\n",
    " \n",
    " \n",
    "data['story_preprocessed'] = data['story'].apply(preprocess_text)"
   ]
  },
  {
   "cell_type": "code",
   "execution_count": null,
   "metadata": {},
   "outputs": [
    {
     "data": {
      "text/plain": [
       "count    6843.000000\n",
       "mean      115.770568\n",
       "std        42.227869\n",
       "min         0.000000\n",
       "25%        87.000000\n",
       "50%       111.000000\n",
       "75%       139.000000\n",
       "max       302.000000\n",
       "Name: word_counts, dtype: float64"
      ]
     },
     "execution_count": 30,
     "metadata": {},
     "output_type": "execute_result"
    }
   ],
   "source": [
    "word_counts = [len(text.split()) for text in data['story_preprocessed']]\n",
    "data['word_counts'] = word_counts\n",
    "data['word_counts'].describe()"
   ]
  },
  {
   "cell_type": "markdown",
   "metadata": {},
   "source": [
    "## <a id='toc1_6_'></a>[Feature Engineering](#toc0_)"
   ]
  },
  {
   "cell_type": "markdown",
   "metadata": {},
   "source": [
    "We aim to determine whether there are any stories with lengths that are either too short or too long."
   ]
  },
  {
   "cell_type": "code",
   "execution_count": 31,
   "metadata": {},
   "outputs": [],
   "source": [
    "Q1 = np.percentile(data['word_counts'], 25)\n",
    "Q3 = np.percentile(data['word_counts'], 75)\n",
    "IQR = Q3 - Q1\n",
    "\n",
    "min_thr = Q1 - 1.5*IQR\n",
    "max_thr = Q3 + 1.5*IQR"
   ]
  },
  {
   "cell_type": "code",
   "execution_count": 32,
   "metadata": {},
   "outputs": [
    {
     "data": {
      "text/html": [
       "<div>\n",
       "<style scoped>\n",
       "    .dataframe tbody tr th:only-of-type {\n",
       "        vertical-align: middle;\n",
       "    }\n",
       "\n",
       "    .dataframe tbody tr th {\n",
       "        vertical-align: top;\n",
       "    }\n",
       "\n",
       "    .dataframe thead th {\n",
       "        text-align: right;\n",
       "    }\n",
       "</style>\n",
       "<table border=\"1\" class=\"dataframe\">\n",
       "  <thead>\n",
       "    <tr style=\"text-align: right;\">\n",
       "      <th></th>\n",
       "      <th>memType</th>\n",
       "      <th>story</th>\n",
       "      <th>story_preprocessed</th>\n",
       "      <th>word_counts</th>\n",
       "    </tr>\n",
       "  </thead>\n",
       "  <tbody>\n",
       "    <tr>\n",
       "      <th>2685</th>\n",
       "      <td>recalled</td>\n",
       "      <td>This was it</td>\n",
       "      <td></td>\n",
       "      <td>0</td>\n",
       "    </tr>\n",
       "    <tr>\n",
       "      <th>236</th>\n",
       "      <td>retold</td>\n",
       "      <td>She is my oldest \"stepdaughter\"</td>\n",
       "      <td>oldest stepdaught</td>\n",
       "      <td>2</td>\n",
       "    </tr>\n",
       "    <tr>\n",
       "      <th>2574</th>\n",
       "      <td>recalled</td>\n",
       "      <td>Dear, diary</td>\n",
       "      <td>dear diari</td>\n",
       "      <td>2</td>\n",
       "    </tr>\n",
       "    <tr>\n",
       "      <th>739</th>\n",
       "      <td>recalled</td>\n",
       "      <td>I was bored with my job</td>\n",
       "      <td>bore job</td>\n",
       "      <td>2</td>\n",
       "    </tr>\n",
       "    <tr>\n",
       "      <th>5290</th>\n",
       "      <td>imagined</td>\n",
       "      <td>he day it happened was the same as most</td>\n",
       "      <td>day happen</td>\n",
       "      <td>2</td>\n",
       "    </tr>\n",
       "    <tr>\n",
       "      <th>1623</th>\n",
       "      <td>imagined</td>\n",
       "      <td>I have been working on packing up my apartment...</td>\n",
       "      <td>work pack apart</td>\n",
       "      <td>3</td>\n",
       "    </tr>\n",
       "    <tr>\n",
       "      <th>868</th>\n",
       "      <td>imagined</td>\n",
       "      <td>She stands in the front of the church</td>\n",
       "      <td>stand front church</td>\n",
       "      <td>3</td>\n",
       "    </tr>\n",
       "    <tr>\n",
       "      <th>2012</th>\n",
       "      <td>imagined</td>\n",
       "      <td>Two months ago I did it</td>\n",
       "      <td>two month ago</td>\n",
       "      <td>3</td>\n",
       "    </tr>\n",
       "    <tr>\n",
       "      <th>1673</th>\n",
       "      <td>recalled</td>\n",
       "      <td>It happened a few months ago</td>\n",
       "      <td>happen month ago</td>\n",
       "      <td>3</td>\n",
       "    </tr>\n",
       "    <tr>\n",
       "      <th>4616</th>\n",
       "      <td>imagined</td>\n",
       "      <td>I am very proud of myself as a father. I have ...</td>\n",
       "      <td>proud father two kid</td>\n",
       "      <td>4</td>\n",
       "    </tr>\n",
       "    <tr>\n",
       "      <th>3106</th>\n",
       "      <td>imagined</td>\n",
       "      <td>About one week ago I took m</td>\n",
       "      <td>one week ago took</td>\n",
       "      <td>4</td>\n",
       "    </tr>\n",
       "    <tr>\n",
       "      <th>504</th>\n",
       "      <td>retold</td>\n",
       "      <td>After having to give up on school to work full...</td>\n",
       "      <td>give school work full time</td>\n",
       "      <td>5</td>\n",
       "    </tr>\n",
       "    <tr>\n",
       "      <th>2929</th>\n",
       "      <td>imagined</td>\n",
       "      <td>These past couple of months have been an absol...</td>\n",
       "      <td>past coupl month absolut whirlwind</td>\n",
       "      <td>5</td>\n",
       "    </tr>\n",
       "    <tr>\n",
       "      <th>4597</th>\n",
       "      <td>imagined</td>\n",
       "      <td>Had my reunion at Cloverfield High today. It w...</td>\n",
       "      <td>reunion cloverfield high today 50th reunion jerri</td>\n",
       "      <td>7</td>\n",
       "    </tr>\n",
       "    <tr>\n",
       "      <th>5893</th>\n",
       "      <td>imagined</td>\n",
       "      <td>The story I posted on Reddit about a month ago...</td>\n",
       "      <td>stori post reddit month ago made popular</td>\n",
       "      <td>7</td>\n",
       "    </tr>\n",
       "    <tr>\n",
       "      <th>1145</th>\n",
       "      <td>recalled</td>\n",
       "      <td>The weekend of my birthday we took family pict...</td>\n",
       "      <td>weekend birthday took famili pictur turn 30</td>\n",
       "      <td>7</td>\n",
       "    </tr>\n",
       "    <tr>\n",
       "      <th>4565</th>\n",
       "      <td>recalled</td>\n",
       "      <td>Last week I drove up to Vermont. I had hoped t...</td>\n",
       "      <td>last week drove vermont hope catch peak foliag</td>\n",
       "      <td>8</td>\n",
       "    </tr>\n",
       "    <tr>\n",
       "      <th>1525</th>\n",
       "      <td>imagined</td>\n",
       "      <td>So I met a woman on Tinder about 6 months ago ...</td>\n",
       "      <td>met woman tinder 6 month ago want hang</td>\n",
       "      <td>8</td>\n",
       "    </tr>\n",
       "    <tr>\n",
       "      <th>4623</th>\n",
       "      <td>recalled</td>\n",
       "      <td>In March of 2019, I was released from a medium...</td>\n",
       "      <td>march 2019 releas medium secur prison racin wi...</td>\n",
       "      <td>8</td>\n",
       "    </tr>\n",
       "    <tr>\n",
       "      <th>6207</th>\n",
       "      <td>retold</td>\n",
       "      <td>I also remembered doing a lot of site seeing a...</td>\n",
       "      <td>also rememb lot site see event travel kid</td>\n",
       "      <td>8</td>\n",
       "    </tr>\n",
       "  </tbody>\n",
       "</table>\n",
       "</div>"
      ],
      "text/plain": [
       "       memType                                              story  \\\n",
       "2685  recalled                                        This was it   \n",
       "236     retold                    She is my oldest \"stepdaughter\"   \n",
       "2574  recalled                                        Dear, diary   \n",
       "739   recalled                            I was bored with my job   \n",
       "5290  imagined            he day it happened was the same as most   \n",
       "1623  imagined  I have been working on packing up my apartment...   \n",
       "868   imagined              She stands in the front of the church   \n",
       "2012  imagined                            Two months ago I did it   \n",
       "1673  recalled                       It happened a few months ago   \n",
       "4616  imagined  I am very proud of myself as a father. I have ...   \n",
       "3106  imagined                        About one week ago I took m   \n",
       "504     retold  After having to give up on school to work full...   \n",
       "2929  imagined  These past couple of months have been an absol...   \n",
       "4597  imagined  Had my reunion at Cloverfield High today. It w...   \n",
       "5893  imagined  The story I posted on Reddit about a month ago...   \n",
       "1145  recalled  The weekend of my birthday we took family pict...   \n",
       "4565  recalled  Last week I drove up to Vermont. I had hoped t...   \n",
       "1525  imagined  So I met a woman on Tinder about 6 months ago ...   \n",
       "4623  recalled  In March of 2019, I was released from a medium...   \n",
       "6207    retold  I also remembered doing a lot of site seeing a...   \n",
       "\n",
       "                                     story_preprocessed  word_counts  \n",
       "2685                                                               0  \n",
       "236                                   oldest stepdaught            2  \n",
       "2574                                         dear diari            2  \n",
       "739                                            bore job            2  \n",
       "5290                                         day happen            2  \n",
       "1623                                    work pack apart            3  \n",
       "868                                  stand front church            3  \n",
       "2012                                      two month ago            3  \n",
       "1673                                   happen month ago            3  \n",
       "4616                               proud father two kid            4  \n",
       "3106                                  one week ago took            4  \n",
       "504                          give school work full time            5  \n",
       "2929                 past coupl month absolut whirlwind            5  \n",
       "4597  reunion cloverfield high today 50th reunion jerri            7  \n",
       "5893           stori post reddit month ago made popular            7  \n",
       "1145        weekend birthday took famili pictur turn 30            7  \n",
       "4565     last week drove vermont hope catch peak foliag            8  \n",
       "1525             met woman tinder 6 month ago want hang            8  \n",
       "4623  march 2019 releas medium secur prison racin wi...            8  \n",
       "6207          also rememb lot site see event travel kid            8  "
      ]
     },
     "execution_count": 32,
     "metadata": {},
     "output_type": "execute_result"
    }
   ],
   "source": [
    "# stories that have a number of words below 1.5 std\n",
    "data[data['word_counts'] < min_thr].loc[:,['memType','story','story_preprocessed','word_counts']].sort_values('word_counts', ascending=True, inplace=False)\n",
    "     "
   ]
  },
  {
   "cell_type": "code",
   "execution_count": 33,
   "metadata": {},
   "outputs": [
    {
     "data": {
      "text/html": [
       "<div>\n",
       "<style scoped>\n",
       "    .dataframe tbody tr th:only-of-type {\n",
       "        vertical-align: middle;\n",
       "    }\n",
       "\n",
       "    .dataframe tbody tr th {\n",
       "        vertical-align: top;\n",
       "    }\n",
       "\n",
       "    .dataframe thead th {\n",
       "        text-align: right;\n",
       "    }\n",
       "</style>\n",
       "<table border=\"1\" class=\"dataframe\">\n",
       "  <thead>\n",
       "    <tr style=\"text-align: right;\">\n",
       "      <th></th>\n",
       "      <th>memType</th>\n",
       "      <th>story</th>\n",
       "      <th>story_preprocessed</th>\n",
       "      <th>word_counts</th>\n",
       "    </tr>\n",
       "  </thead>\n",
       "  <tbody>\n",
       "    <tr>\n",
       "      <th>2882</th>\n",
       "      <td>retold</td>\n",
       "      <td>After HVAC school for one year I realized I wa...</td>\n",
       "      <td>hvac school one year realiz wasnt comfort amou...</td>\n",
       "      <td>302</td>\n",
       "    </tr>\n",
       "    <tr>\n",
       "      <th>3767</th>\n",
       "      <td>recalled</td>\n",
       "      <td>Recently I left a homeless shelter for vets I ...</td>\n",
       "      <td>recent left homeless shelter vet stay last two...</td>\n",
       "      <td>296</td>\n",
       "    </tr>\n",
       "    <tr>\n",
       "      <th>895</th>\n",
       "      <td>recalled</td>\n",
       "      <td>I was looking to buy a car but I didn't have t...</td>\n",
       "      <td>look buy car didnt transport time option limit...</td>\n",
       "      <td>285</td>\n",
       "    </tr>\n",
       "    <tr>\n",
       "      <th>5363</th>\n",
       "      <td>recalled</td>\n",
       "      <td>I was recently involved in a somewhat stressfu...</td>\n",
       "      <td>recent involv somewhat stress incid colleg bun...</td>\n",
       "      <td>285</td>\n",
       "    </tr>\n",
       "    <tr>\n",
       "      <th>3105</th>\n",
       "      <td>recalled</td>\n",
       "      <td>Just last month, I went on a trip to Lassen Na...</td>\n",
       "      <td>last month went trip lassen nation park older ...</td>\n",
       "      <td>283</td>\n",
       "    </tr>\n",
       "    <tr>\n",
       "      <th>...</th>\n",
       "      <td>...</td>\n",
       "      <td>...</td>\n",
       "      <td>...</td>\n",
       "      <td>...</td>\n",
       "    </tr>\n",
       "    <tr>\n",
       "      <th>1597</th>\n",
       "      <td>retold</td>\n",
       "      <td>The Monday of the week of the Fourth of July, ...</td>\n",
       "      <td>monday week fourth juli randomli went drink lo...</td>\n",
       "      <td>218</td>\n",
       "    </tr>\n",
       "    <tr>\n",
       "      <th>2771</th>\n",
       "      <td>recalled</td>\n",
       "      <td>One event that was memorable, emotional and st...</td>\n",
       "      <td>one event memor emot strike social mistak made...</td>\n",
       "      <td>218</td>\n",
       "    </tr>\n",
       "    <tr>\n",
       "      <th>1178</th>\n",
       "      <td>imagined</td>\n",
       "      <td>My mother have a heart disease, so I planned t...</td>\n",
       "      <td>mother heart diseas plan move assist live resi...</td>\n",
       "      <td>218</td>\n",
       "    </tr>\n",
       "    <tr>\n",
       "      <th>5331</th>\n",
       "      <td>imagined</td>\n",
       "      <td>Three months ago I was sitting on a barbecue p...</td>\n",
       "      <td>three month ago sit barbecu pit wait mother pi...</td>\n",
       "      <td>218</td>\n",
       "    </tr>\n",
       "    <tr>\n",
       "      <th>6202</th>\n",
       "      <td>recalled</td>\n",
       "      <td>On June 18, 2019, I gave birth to my fourth ch...</td>\n",
       "      <td>june 18 2019 gave birth fourth child went hosp...</td>\n",
       "      <td>218</td>\n",
       "    </tr>\n",
       "  </tbody>\n",
       "</table>\n",
       "<p>148 rows × 4 columns</p>\n",
       "</div>"
      ],
      "text/plain": [
       "       memType                                              story  \\\n",
       "2882    retold  After HVAC school for one year I realized I wa...   \n",
       "3767  recalled  Recently I left a homeless shelter for vets I ...   \n",
       "895   recalled  I was looking to buy a car but I didn't have t...   \n",
       "5363  recalled  I was recently involved in a somewhat stressfu...   \n",
       "3105  recalled  Just last month, I went on a trip to Lassen Na...   \n",
       "...        ...                                                ...   \n",
       "1597    retold  The Monday of the week of the Fourth of July, ...   \n",
       "2771  recalled  One event that was memorable, emotional and st...   \n",
       "1178  imagined  My mother have a heart disease, so I planned t...   \n",
       "5331  imagined  Three months ago I was sitting on a barbecue p...   \n",
       "6202  recalled  On June 18, 2019, I gave birth to my fourth ch...   \n",
       "\n",
       "                                     story_preprocessed  word_counts  \n",
       "2882  hvac school one year realiz wasnt comfort amou...          302  \n",
       "3767  recent left homeless shelter vet stay last two...          296  \n",
       "895   look buy car didnt transport time option limit...          285  \n",
       "5363  recent involv somewhat stress incid colleg bun...          285  \n",
       "3105  last month went trip lassen nation park older ...          283  \n",
       "...                                                 ...          ...  \n",
       "1597  monday week fourth juli randomli went drink lo...          218  \n",
       "2771  one event memor emot strike social mistak made...          218  \n",
       "1178  mother heart diseas plan move assist live resi...          218  \n",
       "5331  three month ago sit barbecu pit wait mother pi...          218  \n",
       "6202  june 18 2019 gave birth fourth child went hosp...          218  \n",
       "\n",
       "[148 rows x 4 columns]"
      ]
     },
     "execution_count": 33,
     "metadata": {},
     "output_type": "execute_result"
    }
   ],
   "source": [
    "# stories that have a number of words more than 1.5 std\n",
    "data[data['word_counts'] > max_thr].loc[:,['memType','story','story_preprocessed','word_counts']].sort_values('word_counts', ascending=False, inplace=False)\n",
    "     "
   ]
  },
  {
   "cell_type": "code",
   "execution_count": 34,
   "metadata": {},
   "outputs": [
    {
     "data": {
      "image/png": "[encoded data removed]",
      "text/plain": [
       "<Figure size 1000x500 with 2 Axes>"
      ]
     },
     "metadata": {},
     "output_type": "display_data"
    }
   ],
   "source": [
    "fig, (ax1, ax2) = plt.subplots(1, 2, figsize=(10, 5))\n",
    "\n",
    "# Plot the histogram using seaborn on the first axis\n",
    "sns.histplot(data['word_counts'], ax=ax1, kde = True)\n",
    "ax1.set_title('Histogram')\n",
    "\n",
    "# Plot the boxplot using seaborn on the second axis\n",
    "sns.boxplot(data['word_counts'], ax=ax2)\n",
    "ax2.set_title('Boxplot')\n",
    "\n",
    "# Add a common x-axis label\n",
    "fig.text(0.5, 0.04, 'Value', ha='center')\n",
    "\n",
    "# Show the plot\n",
    "plt.show()"
   ]
  },
  {
   "cell_type": "markdown",
   "metadata": {},
   "source": [
    "We decided to remove stories with a length less than Q1 - 1.5 * IQR, as they might not contain any useful information."
   ]
  },
  {
   "cell_type": "code",
   "execution_count": 36,
   "metadata": {},
   "outputs": [],
   "source": [
    "mask = data['word_counts'] < min_thr\n",
    "data = data.drop(data[mask].index)"
   ]
  },
  {
   "cell_type": "markdown",
   "metadata": {},
   "source": [
    "then we create a pipeline using tfidf as a feature and RandomForrest as a classifier."
   ]
  },
  {
   "cell_type": "code",
   "execution_count": null,
   "metadata": {},
   "outputs": [
    {
     "name": "stdout",
     "output_type": "stream",
     "text": [
      "Accuracy: 0.5282051282051282\n"
     ]
    }
   ],
   "source": [
    "X = data['story_preprocessed']\n",
    "y = pd.get_dummies(data['memType'], columns=['memType'])\n",
    "y = np.array(y)\n",
    "\n",
    "# Split the data into training and test sets\n",
    "X_train, X_test, y_train, y_test = train_test_split(X, y, test_size=0.2, random_state=42)\n",
    "\n",
    "# Create the pipeline\n",
    "pipeline = Pipeline([\n",
    "    ('bow', CountVectorizer(min_df=0.05)),  \n",
    "    ('tfidf', TfidfTransformer()),  \n",
    "    ('classifier', RandomForestClassifier())])\n",
    "\n",
    "pipeline.fit(X_train, np.argmax(y_train, axis=1))  \n",
    "\n",
    "y_pred = pipeline.predict(X_test)\n",
    "\n",
    "# Calculate accuracy score\n",
    "accuracy = accuracy_score(np.argmax(y_test, axis=1), y_pred)  \n",
    "print(\"Accuracy:\", accuracy)"
   ]
  },
  {
   "cell_type": "markdown",
   "metadata": {},
   "source": [
    "\n",
    "The accuracy of our model is 52%, which is not acceptable. However, it could be improved by tuning hyperparameters, experimenting with different algorithms, and defining additional features."
   ]
  },
  {
   "cell_type": "code",
   "execution_count": null,
   "metadata": {},
   "outputs": [
    {
     "data": {
      "image/png": "[encoded data removed]",
      "text/plain": [
       "<Figure size 1000x600 with 2 Axes>"
      ]
     },
     "metadata": {},
     "output_type": "display_data"
    }
   ],
   "source": [
    "y_test_labels = np.argmax(y_test, axis=1)\n",
    "y_pred_labels = y_pred\n",
    "\n",
    "target_names = data['memType'].unique()\n",
    "\n",
    "clf_report = classification_report(y_test_labels, y_pred_labels, target_names=target_names, output_dict=True)\n",
    "\n",
    "clf_report_df = pd.DataFrame(clf_report)\n",
    "\n",
    "fig, ax = plt.subplots(figsize=(10, 6))\n",
    "sns.heatmap(clf_report_df.iloc[:-1, :].T, annot=True, cmap='Blues', ax=ax)\n",
    "ax.set_title('Classification Report Heatmap')\n",
    "plt.show()"
   ]
  },
  {
   "cell_type": "markdown",
   "metadata": {},
   "source": [
    "## <a id='toc1_7_'></a>[Transformers](#toc0_)"
   ]
  },
  {
   "cell_type": "markdown",
   "metadata": {},
   "source": [
    "In this section, we will use a transformer to build a more robust model. Specifically, we employ DistilRoBERTa-base, a lightweight version of RoBERTa, due to time and computational limitations. Additionally, we sample 2,000 entries from our dataset for the same reason. The steps we follow are:\n",
    "\n",
    "+ Choosing our text columns and labels\n",
    "+ Converting our labels into numerical representations\n",
    "+ Defining the number of classes\n",
    "+ Tokenizing our stories\n",
    "+ Preprocessing our stories:\n",
    "    - Padding to ensure all inputs have the same length\n",
    "    - Setting a maximum input length of 512 tokens\n",
    "+ Defining \"accuracy\" as our evaluation metric\n",
    "+ Training our model"
   ]
  },
  {
   "cell_type": "code",
   "execution_count": null,
   "metadata": {},
   "outputs": [],
   "source": [
    "data = pd.read_excel(\"hcV3-stories.xlsx\")\n",
    "data = data.dropna(subset=['story', 'memType'])"
   ]
  },
  {
   "cell_type": "markdown",
   "metadata": {},
   "source": [
    "### <a id='toc1_7_1_'></a>[Preprocessing](#toc0_)"
   ]
  },
  {
   "cell_type": "code",
   "execution_count": 4,
   "metadata": {},
   "outputs": [],
   "source": [
    "sampled_data = data.groupby('memType', group_keys=False).apply(\n",
    "    lambda x: x.sample(n=2000 // 3, random_state=42))\n",
    "\n",
    "data = sampled_data.sample(frac=1, random_state=42).reset_index(drop=True)\n"
   ]
  },
  {
   "cell_type": "code",
   "execution_count": 5,
   "metadata": {},
   "outputs": [],
   "source": [
    "data = data[[\"story\", \"memType\"]]\n",
    "data.columns = [\"text\", \"label\"]\n",
    "le = sklearn.preprocessing.LabelEncoder()\n",
    "data[\"label\"] = le.fit_transform(data[\"label\"])\n",
    "number_of_classes = data[\"label\"].nunique()"
   ]
  },
  {
   "cell_type": "code",
   "execution_count": null,
   "metadata": {},
   "outputs": [
    {
     "name": "stderr",
     "output_type": "stream",
     "text": [
      "Map: 100%|██████████| 749/749 [00:00<00:00, 1841.97 examples/s]\n",
      "Map: 100%|██████████| 250/250 [00:00<00:00, 2090.21 examples/s]\n"
     ]
    }
   ],
   "source": [
    "data_train, data_test = sklearn.model_selection.train_test_split(data)\n",
    "\n",
    "model_name = \"distilroberta-base\"\n",
    "tokenizer = transformers.AutoTokenizer.from_pretrained(model_name)\n",
    "data_collator = transformers.DataCollatorWithPadding(tokenizer=tokenizer)\n",
    "\n",
    "def preprocess_function(examples):\n",
    "    return tokenizer(examples[\"text\"], truncation=True, padding=True, max_length=512)\n",
    "\n",
    "data_train_encoded = datasets.Dataset.from_pandas(data_train).map(preprocess_function, batched=True)\n",
    "data_test_encoded = datasets.Dataset.from_pandas(data_test).map(preprocess_function, batched=True)"
   ]
  },
  {
   "cell_type": "markdown",
   "metadata": {},
   "source": [
    "### <a id='toc1_7_2_'></a>[Training](#toc0_)"
   ]
  },
  {
   "cell_type": "code",
   "execution_count": 7,
   "metadata": {},
   "outputs": [],
   "source": [
    "metric = evaluate.load(\"accuracy\")\n",
    "\n",
    "def compute_metrics(eval_pred):\n",
    "    logits, labels = eval_pred\n",
    "    predictions = np.argmax(logits, axis=-1)\n",
    "    return metric.compute(predictions=predictions, references=labels)"
   ]
  },
  {
   "cell_type": "code",
   "execution_count": null,
   "metadata": {},
   "outputs": [],
   "source": [
    "model = transformers.AutoModelForSequenceClassification.from_pretrained(model_name, num_labels=number_of_classes)\n",
    "\n",
    "training_args = transformers.TrainingArguments(\n",
    "    output_dir=\"./results\",\n",
    "    learning_rate=2e-5,\n",
    "    per_device_train_batch_size=16,\n",
    "    per_device_eval_batch_size=16,\n",
    "    num_train_epochs=15,\n",
    "    weight_decay=0.01,\n",
    "    evaluation_strategy=\"epoch\",\n",
    "    report_to=\"none\"\n",
    ")\n",
    "\n",
    "trainer = transformers.Trainer(\n",
    "    model=model,\n",
    "    args=training_args,\n",
    "    train_dataset=data_train_encoded,\n",
    "    eval_dataset=data_test_encoded,\n",
    "    tokenizer=tokenizer,\n",
    "    compute_metrics=compute_metrics,\n",
    ")\n",
    "\n",
    "trainer.train()"
   ]
  },
  {
   "cell_type": "markdown",
   "metadata": {},
   "source": [
    "Finally, we achieved an accuracy of 60% for our model. This performance can be further improved by adjusting the model's hyperparameters, such as the learning rate, batch size, weight decay, and others."
   ]
  }
 ],
 "metadata": {
  "kernelspec": {
   "display_name": "Python 3",
   "language": "python",
   "name": "python3"
  },
  "language_info": {
   "codemirror_mode": {
    "name": "ipython",
    "version": 3
   },
   "file_extension": ".py",
   "mimetype": "text/x-python",
   "name": "python",
   "nbconvert_exporter": "python",
   "pygments_lexer": "ipython3",
   "version": "3.11.0"
  }
 },
 "nbformat": 4,
 "nbformat_minor": 2
}
